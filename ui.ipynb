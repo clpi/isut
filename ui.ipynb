{
 "cells": [
  {
   "cell_type": "markdown",
   "metadata": {},
   "source": []
  },
  {
   "cell_type": "code",
   "execution_count": 1,
   "metadata": {},
   "outputs": [
    {
     "ename": "ImportError",
     "evalue": "cannot import name 'About' from 'isu.view.dialog.about' (c:\\Users\\chris\\i\\isu\\view\\dialog\\about.py)",
     "output_type": "error",
     "traceback": [
      "\u001b[1;31m---------------------------------------------------------------------------\u001b[0m",
      "\u001b[1;31mImportError\u001b[0m                               Traceback (most recent call last)",
      "\u001b[1;32mc:\\Users\\chris\\i\\ui.ipynb Cell 2'\u001b[0m in \u001b[0;36m<cell line: 10>\u001b[1;34m()\u001b[0m\n\u001b[0;32m      <a href='vscode-notebook-cell:/c%3A/Users/chris/i/ui.ipynb#ch0000001?line=6'>7</a>\u001b[0m \u001b[39mfrom\u001b[39;00m \u001b[39mPIL\u001b[39;00m \u001b[39mimport\u001b[39;00m Image, ImageQt, ImageSequence\n\u001b[0;32m      <a href='vscode-notebook-cell:/c%3A/Users/chris/i/ui.ipynb#ch0000001?line=7'>8</a>\u001b[0m \u001b[39mimport\u001b[39;00m \u001b[39mffmpeg\u001b[39;00m\u001b[39m,\u001b[39m \u001b[39mav\u001b[39;00m\n\u001b[1;32m---> <a href='vscode-notebook-cell:/c%3A/Users/chris/i/ui.ipynb#ch0000001?line=9'>10</a>\u001b[0m \u001b[39mfrom\u001b[39;00m \u001b[39misu\u001b[39;00m\u001b[39m.\u001b[39;00m\u001b[39mapp\u001b[39;00m \u001b[39mimport\u001b[39;00m Isu\n\u001b[0;32m     <a href='vscode-notebook-cell:/c%3A/Users/chris/i/ui.ipynb#ch0000001?line=10'>11</a>\u001b[0m \u001b[39mfrom\u001b[39;00m \u001b[39misu\u001b[39;00m\u001b[39m.\u001b[39;00m\u001b[39mview\u001b[39;00m\u001b[39m.\u001b[39;00m\u001b[39mwindow\u001b[39;00m \u001b[39mimport\u001b[39;00m Win\n\u001b[0;32m     <a href='vscode-notebook-cell:/c%3A/Users/chris/i/ui.ipynb#ch0000001?line=12'>13</a>\u001b[0m a \u001b[39m=\u001b[39m Isu\u001b[39m.\u001b[39minstance()\n",
      "File \u001b[1;32mc:\\Users\\chris\\i\\isu\\app.py:3\u001b[0m, in \u001b[0;36m<module>\u001b[1;34m\u001b[0m\n\u001b[0;32m      <a href='file:///c%3A/Users/chris/i/isu/app.py?line=0'>1</a>\u001b[0m \u001b[39mimport\u001b[39;00m \u001b[39msys\u001b[39;00m\u001b[39m,\u001b[39m \u001b[39mos\u001b[39;00m\n\u001b[0;32m      <a href='file:///c%3A/Users/chris/i/isu/app.py?line=1'>2</a>\u001b[0m \u001b[39mfrom\u001b[39;00m \u001b[39mPySide6\u001b[39;00m\u001b[39m.\u001b[39;00m\u001b[39mQtCore\u001b[39;00m \u001b[39mimport\u001b[39;00m \u001b[39m*\u001b[39m\n\u001b[1;32m----> <a href='file:///c%3A/Users/chris/i/isu/app.py?line=2'>3</a>\u001b[0m \u001b[39mfrom\u001b[39;00m \u001b[39misu\u001b[39;00m\u001b[39m.\u001b[39;00m\u001b[39mview\u001b[39;00m\u001b[39m.\u001b[39;00m\u001b[39mwindow\u001b[39;00m \u001b[39mimport\u001b[39;00m Win\n\u001b[0;32m      <a href='file:///c%3A/Users/chris/i/isu/app.py?line=3'>4</a>\u001b[0m \u001b[39mfrom\u001b[39;00m \u001b[39mtyping\u001b[39;00m \u001b[39mimport\u001b[39;00m List, Type\n\u001b[0;32m      <a href='file:///c%3A/Users/chris/i/isu/app.py?line=4'>5</a>\u001b[0m \u001b[39mfrom\u001b[39;00m \u001b[39misu\u001b[39;00m\u001b[39m.\u001b[39;00m\u001b[39mview\u001b[39;00m \u001b[39mimport\u001b[39;00m UiLoader\n",
      "File \u001b[1;32mc:\\Users\\chris\\i\\isu\\view\\window.py:8\u001b[0m, in \u001b[0;36m<module>\u001b[1;34m\u001b[0m\n\u001b[0;32m      <a href='file:///c%3A/Users/chris/i/isu/view/window.py?line=5'>6</a>\u001b[0m \u001b[39mfrom\u001b[39;00m \u001b[39mPySide6\u001b[39;00m\u001b[39m.\u001b[39;00m\u001b[39mQtGui\u001b[39;00m \u001b[39mimport\u001b[39;00m \u001b[39m*\u001b[39m\n\u001b[0;32m      <a href='file:///c%3A/Users/chris/i/isu/view/window.py?line=6'>7</a>\u001b[0m \u001b[39mfrom\u001b[39;00m \u001b[39mPyQt6\u001b[39;00m\u001b[39m.\u001b[39;00m\u001b[39muic\u001b[39;00m \u001b[39mimport\u001b[39;00m load_ui\n\u001b[1;32m----> <a href='file:///c%3A/Users/chris/i/isu/view/window.py?line=7'>8</a>\u001b[0m \u001b[39mfrom\u001b[39;00m \u001b[39misu\u001b[39;00m\u001b[39m.\u001b[39;00m\u001b[39mview\u001b[39;00m\u001b[39m.\u001b[39;00m\u001b[39mdialog\u001b[39;00m \u001b[39mimport\u001b[39;00m About, Preferences, Progress\n\u001b[0;32m      <a href='file:///c%3A/Users/chris/i/isu/view/window.py?line=8'>9</a>\u001b[0m \u001b[39mfrom\u001b[39;00m \u001b[39misu\u001b[39;00m\u001b[39m.\u001b[39;00m\u001b[39mui\u001b[39;00m\u001b[39m.\u001b[39;00m\u001b[39mwindow\u001b[39;00m \u001b[39mimport\u001b[39;00m Ui_MainWindow\n\u001b[0;32m     <a href='file:///c%3A/Users/chris/i/isu/view/window.py?line=9'>10</a>\u001b[0m \u001b[39mfrom\u001b[39;00m \u001b[39misu\u001b[39;00m\u001b[39m.\u001b[39;00m\u001b[39mui\u001b[39;00m\u001b[39m.\u001b[39;00m\u001b[39mprefs\u001b[39;00m \u001b[39mimport\u001b[39;00m Ui_prefsDialog\n",
      "File \u001b[1;32mc:\\Users\\chris\\i\\isu\\view\\dialog\\__init__.py:2\u001b[0m, in \u001b[0;36m<module>\u001b[1;34m\u001b[0m\n\u001b[0;32m      <a href='file:///c%3A/Users/chris/i/isu/view/dialog/__init__.py?line=0'>1</a>\u001b[0m \u001b[39mfrom\u001b[39;00m \u001b[39m.\u001b[39;00m\u001b[39mprog\u001b[39;00m \u001b[39mimport\u001b[39;00m Progress\n\u001b[1;32m----> <a href='file:///c%3A/Users/chris/i/isu/view/dialog/__init__.py?line=1'>2</a>\u001b[0m \u001b[39mfrom\u001b[39;00m \u001b[39m.\u001b[39;00m\u001b[39mabout\u001b[39;00m \u001b[39mimport\u001b[39;00m About\n\u001b[0;32m      <a href='file:///c%3A/Users/chris/i/isu/view/dialog/__init__.py?line=2'>3</a>\u001b[0m \u001b[39mfrom\u001b[39;00m \u001b[39m.\u001b[39;00m\u001b[39mpreferences\u001b[39;00m \u001b[39mimport\u001b[39;00m Preferences\n",
      "\u001b[1;31mImportError\u001b[0m: cannot import name 'About' from 'isu.view.dialog.about' (c:\\Users\\chris\\i\\isu\\view\\dialog\\about.py)"
     ]
    }
   ],
   "source": [
    "from PySide6.QtCore import *\n",
    "from typing import List, Type\n",
    "from isu.view import UiLoader\n",
    "from PySide6.QtWidgets import *\n",
    "from PySide6.QtUiTools import QUiLoader\n",
    "import cv2, ffmpeg, sys, os, numpy as np\n",
    "from PIL import Image, ImageQt, ImageSequence\n",
    "import ffmpeg, av\n",
    "\n",
    "from isu.app import Isu\n",
    "from isu.view.window import Win\n",
    "\n",
    "a = Isu.instance()\n",
    "w = Win(parent=None)\n",
    "w.show()\n",
    "a.exec()\n"
   ]
  },
  {
   "cell_type": "code",
   "execution_count": 3,
   "metadata": {},
   "outputs": [],
   "source": []
  },
  {
   "cell_type": "code",
   "execution_count": 4,
   "metadata": {},
   "outputs": [],
   "source": [
    "def run():\n",
    "    a = QApplication()\n",
    "    w = Win(parent = None)\n",
    "    w.show()\n",
    "    sys.exit(a.exec())"
   ]
  },
  {
   "cell_type": "code",
   "execution_count": null,
   "metadata": {},
   "outputs": [
    {
     "ename": "Error",
     "evalue": "Canceled future for execute_request message before replies were done",
     "output_type": "error",
     "traceback": [
      "Error: Canceled future for execute_request message before replies were done",
      "at t.KernelShellFutureHandler.dispose (c:\\Users\\chris\\.vscode\\extensions\\ms-toolsai.jupyter-2022.3.1000901801\\out\\extension.js:2:1204175)",
      "at c:\\Users\\chris\\.vscode\\extensions\\ms-toolsai.jupyter-2022.3.1000901801\\out\\extension.js:2:1223227",
      "at Map.forEach (<anonymous>)",
      "at v._clearKernelState (c:\\Users\\chris\\.vscode\\extensions\\ms-toolsai.jupyter-2022.3.1000901801\\out\\extension.js:2:1223212)",
      "at v.dispose (c:\\Users\\chris\\.vscode\\extensions\\ms-toolsai.jupyter-2022.3.1000901801\\out\\extension.js:2:1216694)",
      "at c:\\Users\\chris\\.vscode\\extensions\\ms-toolsai.jupyter-2022.3.1000901801\\out\\extension.js:2:533674",
      "at t.swallowExceptions (c:\\Users\\chris\\.vscode\\extensions\\ms-toolsai.jupyter-2022.3.1000901801\\out\\extension.js:2:913059)",
      "at dispose (c:\\Users\\chris\\.vscode\\extensions\\ms-toolsai.jupyter-2022.3.1000901801\\out\\extension.js:2:533652)",
      "at t.RawSession.dispose (c:\\Users\\chris\\.vscode\\extensions\\ms-toolsai.jupyter-2022.3.1000901801\\out\\extension.js:2:537330)",
      "at runMicrotasks (<anonymous>)",
      "at processTicksAndRejections (node:internal/process/task_queues:96:5)"
     ]
    }
   ],
   "source": [
    "run(Win())"
   ]
  },
  {
   "cell_type": "code",
   "execution_count": null,
   "metadata": {},
   "outputs": [],
   "source": [
    "from isu.actions.op import Op\n",
    "from isu.actions.queue import OpPool\n",
    "from isu.view import UiLoader\n",
    "\n",
    "tabs = UiLoader().loadUi(\"isu/ui/tabs.ui\", Win())\n",
    "tab = UiLoader(\"isu/ui/ops/tab.ui\")\n",
    "Op(-1, )"
   ]
  },
  {
   "cell_type": "code",
   "execution_count": 6,
   "metadata": {},
   "outputs": [],
   "source": [
    "\n",
    "from isu.utils import show, browseFile\n",
    "from isu.view import UiLoader\n",
    "from isu.actions.op import Op\n",
    "from PySide6.QtWidgets import QWidget\n",
    "\n",
    "def OpTab(QWidget):\n",
    "    def __init__(self, parent = None) -> None:\n",
    "        QWidget.__init__(self, parent)\n",
    "        UiLoader().loadUi(\"isu/ui/ops/tab.ui\", self)\n",
    "\n",
    "    def op(self) -> Op:\n",
    "        return Op(self.opidx)\n",
    "\n"
   ]
  },
  {
   "cell_type": "code",
   "execution_count": 7,
   "metadata": {},
   "outputs": [
    {
     "ename": "RuntimeError",
     "evalue": "Please destroy the QApplication singleton before creating a new QApplication instance.",
     "output_type": "error",
     "traceback": [
      "\u001b[1;31m---------------------------------------------------------------------------\u001b[0m",
      "\u001b[1;31mRuntimeError\u001b[0m                              Traceback (most recent call last)",
      "\u001b[1;32mc:\\Users\\chris\\i\\ui.ipynb Cell 8'\u001b[0m in \u001b[0;36m<cell line: 1>\u001b[1;34m()\u001b[0m\n\u001b[1;32m----> <a href='vscode-notebook-cell:/c%3A/Users/chris/i/ui.ipynb#ch0000007?line=0'>1</a>\u001b[0m a \u001b[39m=\u001b[39m QApplication([])\n\u001b[0;32m      <a href='vscode-notebook-cell:/c%3A/Users/chris/i/ui.ipynb#ch0000007?line=1'>2</a>\u001b[0m w \u001b[39m=\u001b[39m OpTab(\u001b[39mNone\u001b[39;00m)\n\u001b[0;32m      <a href='vscode-notebook-cell:/c%3A/Users/chris/i/ui.ipynb#ch0000007?line=2'>3</a>\u001b[0m w\u001b[39m.\u001b[39mshow()\n",
      "\u001b[1;31mRuntimeError\u001b[0m: Please destroy the QApplication singleton before creating a new QApplication instance."
     ]
    }
   ],
   "source": [
    "a = QApplication([])\n",
    "w = OpTab(None)\n",
    "w.show()\n",
    "a.exec()"
   ]
  },
  {
   "cell_type": "code",
   "execution_count": null,
   "metadata": {},
   "outputs": [],
   "source": []
  }
 ],
 "metadata": {
  "interpreter": {
   "hash": "ddefc5bad05c7811804aa4729b592dafa86c6e9d73f4b3eff9bb8726605fa669"
  },
  "kernelspec": {
   "display_name": "Python 3.10.4 ('i-4x84-r3K-py3.10')",
   "language": "python",
   "name": "python3"
  },
  "language_info": {
   "codemirror_mode": {
    "name": "ipython",
    "version": 3
   },
   "file_extension": ".py",
   "mimetype": "text/x-python",
   "name": "python",
   "nbconvert_exporter": "python",
   "pygments_lexer": "ipython3",
   "version": "3.10.4"
  },
  "orig_nbformat": 4
 },
 "nbformat": 4,
 "nbformat_minor": 2
}
